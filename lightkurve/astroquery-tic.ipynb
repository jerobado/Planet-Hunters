{
 "cells": [
  {
   "cell_type": "code",
   "execution_count": 1,
   "metadata": {},
   "outputs": [
    {
     "name": "stdout",
     "output_type": "stream",
     "text": [
      "gzip was not found on your system! You should solve this issue for astroquery.eso to be at its best!\n",
      "On POSIX system: make sure gzip is installed and in your path!On Windows: same for 7-zip (http://www.7-zip.org)!\n"
     ]
    }
   ],
   "source": [
    "# fetching TESS Input Catalog (TIC) using astroquery\n",
    "from astroquery.mast import Catalogs"
   ]
  },
  {
   "cell_type": "code",
   "execution_count": 9,
   "metadata": {},
   "outputs": [],
   "source": [
    "target_name = \"HD 209458\"\n",
    "search_radius_deg = 0.2"
   ]
  },
  {
   "cell_type": "code",
   "execution_count": 10,
   "metadata": {},
   "outputs": [],
   "source": [
    "catalogTIC = Catalogs.query_object(target_name, radius=search_radius_deg, catalog=\"TIC\")"
   ]
  },
  {
   "cell_type": "code",
   "execution_count": 11,
   "metadata": {},
   "outputs": [
    {
     "name": "stdout",
     "output_type": "stream",
     "text": [
      "Number of TIC objects within 0.200000 deg of HD 209458: 1344\n"
     ]
    }
   ],
   "source": [
    "print(\"Number of TIC objects within %f deg of %s: %u\" % (search_radius_deg, target_name, len(catalogTIC)))"
   ]
  },
  {
   "cell_type": "code",
   "execution_count": 12,
   "metadata": {},
   "outputs": [
    {
     "name": "stdout",
     "output_type": "stream",
     "text": [
      "    ID            ra              dec        ... wdflag      dstArcSec      \n",
      "---------- ---------------- ---------------- ... ------ --------------------\n",
      " 420814525 330.794887332661 18.8843189579296 ...      0 5.35583515687783e-07\n",
      "2000745611 330.791994069614 18.8886786047438 ...      1   18.532273359218372\n",
      "2000745610 330.788114803802 18.8812437457584 ...      0   25.587879327586613\n",
      " 420814529 330.795713313729 18.8934571085324 ...      0    33.01742498072588\n",
      "2000745613 330.794203282184   18.89452197659 ...      0     36.8046915963135\n",
      "2000745639 330.788334039197 18.8925419460755 ...      1    37.07520080965473\n",
      "2000745612 330.794738216548 18.8950361812514 ...      0   38.585347020711076\n",
      "2000745617 330.801608467461  18.896161406755 ...      1    48.39051230194538\n",
      " 372975009 330.801588222671 18.8702517932934 ...      0    55.54821323120906\n",
      "2000745385 330.783848984483 18.8719480835124 ...     -1    58.28530727111688\n",
      "       ...              ...              ... ...    ...                  ...\n",
      " 420813612 330.643207460887 18.7461671688657 ...      0    717.2910897921283\n",
      " 420813553 330.584973685087 18.8679804746608 ...      0    717.4632838671489\n",
      " 372975106 330.879166459097 18.7016431364123 ...     -1    717.6225046346124\n",
      "2000745220  331.00463944846 18.9067313142437 ...      0    718.9570398023283\n",
      " 420814627 330.729034066846 19.0740861534884 ...      0    719.0052009288345\n",
      "2000745299 330.638766751584 18.7499126170112 ...     -1    719.1256854522685\n",
      "2000744900 330.817380858343 18.6856076786533 ...      0    719.4567813517111\n",
      " 371519255 330.999198739033 18.8337078070352 ...      0    719.4879119060696\n",
      "2000745821 330.731361940145 19.0749527317799 ...      0    719.5485141697347\n",
      "2000745270 330.992618907636 18.9547791120183 ...      0    719.5677217413514\n",
      " 371519377  330.97776104877 18.9845139544215 ...      0     719.645284638367\n",
      "Length = 1344 rows\n"
     ]
    }
   ],
   "source": [
    "print(catalogTIC)"
   ]
  },
  {
   "cell_type": "code",
   "execution_count": 16,
   "metadata": {},
   "outputs": [
    {
     "data": {
      "text/html": [
       "&lt;MaskedColumn name=&apos;ID&apos; dtype=&apos;str11&apos; length=1344&gt;\n",
       "<table>\n",
       "<tr><td>2013258</td></tr>\n",
       "<tr><td>2013258</td></tr>\n",
       "<tr><td>2013258</td></tr>\n",
       "<tr><td>2013258</td></tr>\n",
       "<tr><td>2013258</td></tr>\n",
       "<tr><td>2013258</td></tr>\n",
       "<tr><td>2013258</td></tr>\n",
       "<tr><td>2013258</td></tr>\n",
       "<tr><td>2013258</td></tr>\n",
       "<tr><td>2013258</td></tr>\n",
       "<tr><td>2013258</td></tr>\n",
       "<tr><td>2013258</td></tr>\n",
       "<tr><td>...</td></tr>\n",
       "<tr><td>2013258</td></tr>\n",
       "<tr><td>2013258</td></tr>\n",
       "<tr><td>2013258</td></tr>\n",
       "<tr><td>2013258</td></tr>\n",
       "<tr><td>2013258</td></tr>\n",
       "<tr><td>2013258</td></tr>\n",
       "<tr><td>2013258</td></tr>\n",
       "<tr><td>2013258</td></tr>\n",
       "<tr><td>2013258</td></tr>\n",
       "<tr><td>2013258</td></tr>\n",
       "<tr><td>2013258</td></tr>\n",
       "<tr><td>2013258</td></tr>\n",
       "</table>"
      ],
      "text/plain": [
       "<MaskedColumn name='ID' dtype='str11' length=1344>\n",
       "2013258\n",
       "2013258\n",
       "2013258\n",
       "2013258\n",
       "2013258\n",
       "2013258\n",
       "2013258\n",
       "2013258\n",
       "2013258\n",
       "2013258\n",
       "2013258\n",
       "2013258\n",
       "    ...\n",
       "2013258\n",
       "2013258\n",
       "2013258\n",
       "2013258\n",
       "2013258\n",
       "2013258\n",
       "2013258\n",
       "2013258\n",
       "2013258\n",
       "2013258\n",
       "2013258\n",
       "2013258"
      ]
     },
     "execution_count": 16,
     "metadata": {},
     "output_type": "execute_result"
    }
   ],
   "source": [
    "catalogTIC['ID']"
   ]
  },
  {
   "cell_type": "code",
   "execution_count": 18,
   "metadata": {},
   "outputs": [],
   "source": [
    "import numpy as np"
   ]
  },
  {
   "cell_type": "code",
   "execution_count": 24,
   "metadata": {},
   "outputs": [
    {
     "name": "stdout",
     "output_type": "stream",
     "text": [
      "2013258\n"
     ]
    }
   ],
   "source": [
    "where_closest = np.argmin(catalogTIC['dstArcSec'])\n",
    "print(catalogTIC['ID'][0])"
   ]
  },
  {
   "cell_type": "code",
   "execution_count": 22,
   "metadata": {},
   "outputs": [
    {
     "name": "stdout",
     "output_type": "stream",
     "text": [
      "Number of objects classified as 'DWARF' within 0.200000 deg of HD 209458: 904\n",
      "Number of objects classified as 'GIANT' within 0.200000 deg of HD 209458: 28\n"
     ]
    }
   ],
   "source": [
    "# Identify where the luminosity class is set to \"DWARF\".\n",
    "where_dwarfs = np.where(catalogTIC['lumclass'] == 'DWARF')[0]\n",
    "\n",
    "# Let's also find out where the luminosity class is set to \"GIANT\".\n",
    "where_giants = np.where(catalogTIC['lumclass'] == 'GIANT')[0]\n",
    "\n",
    "# Let's print out the number of rows of each type within the returned objects from our search.\n",
    "print(\"Number of objects classified as 'DWARF' within %f deg of %s: %u\" %\n",
    "      (search_radius_deg, target_name, len(where_dwarfs)))\n",
    "print(\"Number of objects classified as 'GIANT' within %f deg of %s: %u\" %\n",
    "      (search_radius_deg, target_name, len(where_giants)))"
   ]
  },
  {
   "cell_type": "code",
   "execution_count": 25,
   "metadata": {},
   "outputs": [
    {
     "name": "stdout",
     "output_type": "stream",
     "text": [
      "Closest TIC ID to HD 209458: TIC 2013258, separation of 0.000001 arcsec. and a TESS mag. of 7.127400\n"
     ]
    }
   ],
   "source": [
    "print(\"Closest TIC ID to %s: TIC %s, separation of %f arcsec. and a TESS mag. of %f\"%\n",
    "      (target_name, catalogTIC['ID'][where_closest], catalogTIC['dstArcSec'][where_closest],\n",
    "      catalogTIC['Tmag'][where_closest]))"
   ]
  },
  {
   "cell_type": "code",
   "execution_count": 27,
   "metadata": {},
   "outputs": [],
   "source": [
    "target_name = 'HAT-P-1'\n",
    "catalogTIC = Catalogs.query_object(target_name, radius=search_radius_deg, catalog=\"TIC\")"
   ]
  },
  {
   "cell_type": "code",
   "execution_count": 28,
   "metadata": {},
   "outputs": [
    {
     "name": "stdout",
     "output_type": "stream",
     "text": [
      "    ID            ra              dec        ... wdflag       dstArcSec      \n",
      "---------- ---------------- ---------------- ... ------ ---------------------\n",
      " 346338552  344.44518458974 38.6750987181784 ...      0 8.610032850842536e-07\n",
      " 346338553 344.441337794095 38.6742217606236 ...      0     11.26310046527772\n",
      "2041318849 344.447286945606 38.6704310411793 ...     -1    17.812286703741048\n",
      "2041318848 344.443868903754 38.6799638538131 ...      0    17.900556056941344\n",
      " 346338561 344.440028212908 38.6678520098997 ...      0    29.843506032623754\n",
      "2041318876 344.447747019342 38.6834323369539 ...      1     30.85322163188013\n",
      "2041318850 344.436924372042 38.6690775314055 ...      0     31.76269337825831\n",
      " 346338556 344.456800414753 38.6734738950991 ...      0    33.166842348111565\n",
      "2041318893 344.441234747883 38.6844612914135 ...     -1     35.48610999357765\n",
      " 346338563 344.435662008581 38.6654013293435 ...      0     43.99011899484707\n",
      "       ...              ...              ... ...    ...                   ...\n",
      "2041313427 344.647042620246 38.7975811167657 ...      1     718.1464267980798\n",
      "2041325170 344.432179710643 38.8744085601426 ...     -1     718.4431875708652\n",
      "2041313402 344.673947600993 38.7643805674807 ...      1     718.4491268822711\n",
      " 346338700 344.400344735915 38.4785796603453 ...      0     718.6357411376545\n",
      " 346338694 344.525125534213 38.4854062405756 ...      0     718.9963334564701\n",
      " 397697616 344.250194685838 38.5459709988323 ...      0      719.003902061256\n",
      "2041325169 344.425948427708 38.8744053222537 ...      0     719.5320755594845\n",
      " 346338695 344.522312256673 38.4845241624286 ...      0     719.5858251607586\n",
      " 346417553 344.595014862527 38.5131018098828 ...      0     719.6089464131992\n",
      "2041325018 344.604096722273 38.8319826568549 ...      0     719.7338169414273\n",
      "2041318379  344.27713115377 38.5243123525384 ...      1     719.8748529896302\n",
      "Length = 2018 rows\n"
     ]
    }
   ],
   "source": [
    "print(catalogTIC)"
   ]
  },
  {
   "cell_type": "code",
   "execution_count": 29,
   "metadata": {},
   "outputs": [
    {
     "name": "stdout",
     "output_type": "stream",
     "text": [
      "    ID    \n",
      "----------\n",
      " 346338552\n",
      " 346338553\n",
      "2041318849\n",
      "2041318848\n",
      " 346338561\n",
      "2041318876\n",
      "2041318850\n",
      " 346338556\n",
      "2041318893\n",
      " 346338563\n",
      "       ...\n",
      "2041313427\n",
      "2041325170\n",
      "2041313402\n",
      " 346338700\n",
      " 346338694\n",
      " 397697616\n",
      "2041325169\n",
      " 346338695\n",
      " 346417553\n",
      "2041325018\n",
      "2041318379\n",
      "Length = 2018 rows\n"
     ]
    }
   ],
   "source": [
    "print(catalogTIC['ID'])"
   ]
  },
  {
   "cell_type": "code",
   "execution_count": 30,
   "metadata": {},
   "outputs": [
    {
     "name": "stdout",
     "output_type": "stream",
     "text": [
      "346338552\n"
     ]
    }
   ],
   "source": [
    "print(catalogTIC['ID'][0])"
   ]
  },
  {
   "cell_type": "code",
   "execution_count": 31,
   "metadata": {},
   "outputs": [
    {
     "name": "stdout",
     "output_type": "stream",
     "text": [
      "<class 'astropy.table.column.MaskedColumn'>\n"
     ]
    }
   ],
   "source": [
    "print(type(catalogTIC['ID']))"
   ]
  },
  {
   "cell_type": "code",
   "execution_count": 40,
   "metadata": {},
   "outputs": [
    {
     "name": "stdout",
     "output_type": "stream",
     "text": [
      "346338552\n"
     ]
    }
   ],
   "source": [
    "where_closest = np.argmin(catalogTIC['dstArcSec'])\n",
    "print(catalogTIC['ID'][where_closest])"
   ]
  },
  {
   "cell_type": "code",
   "execution_count": 41,
   "metadata": {},
   "outputs": [
    {
     "name": "stdout",
     "output_type": "stream",
     "text": [
      "Closest TIC ID to HAT-P-1: TIC 346338552, separation of 0.000001 arcsec. and a TESS mag. of 9.760310\n"
     ]
    }
   ],
   "source": [
    "print(\"Closest TIC ID to %s: TIC %s, separation of %f arcsec. and a TESS mag. of %f\"%\n",
    "      (target_name, catalogTIC['ID'][where_closest], catalogTIC['dstArcSec'][where_closest],\n",
    "      catalogTIC['Tmag'][where_closest]))"
   ]
  },
  {
   "cell_type": "code",
   "execution_count": null,
   "metadata": {},
   "outputs": [],
   "source": []
  }
 ],
 "metadata": {
  "kernelspec": {
   "display_name": "Python 3",
   "language": "python",
   "name": "python3"
  },
  "language_info": {
   "codemirror_mode": {
    "name": "ipython",
    "version": 3
   },
   "file_extension": ".py",
   "mimetype": "text/x-python",
   "name": "python",
   "nbconvert_exporter": "python",
   "pygments_lexer": "ipython3",
   "version": "3.7.6"
  }
 },
 "nbformat": 4,
 "nbformat_minor": 2
}
